{
 "cells": [
  {
   "cell_type": "markdown",
   "metadata": {},
   "source": [
    "### Using Jupyter Notebook on Windows to send and remotely execute a shell script with Open SSH\n",
    "This technique can be helpful in a workflow where you prepare a shell script locally on Windows and then need to execute it on one or more remote servers and have scripts output documented. Consider an example of an offloaded Oracle database upgrade where you take backup on a source system, transfer it to a target system, then restore it on target system and then upgrade on target. This scenario consists of multiple steps where each step can be scripted as an independent shell script. Each such script will have high probability of producing errors due to unforseen environmental surcumstances, making Jupiter Notebook a great tool for iterative trial and errors approach.\n",
    "\n",
    "Starting with build 1809 Windows 10 ships with OpenSSH, with client ssh normally installed under C:\\Windows\\System32\\OpenSSH.\n",
    "\n",
    "The technique shown in this notebook uses OpenSSH. \n",
    "ssh is assumed to be in system PATH.\n",
    "\n",
    "Also it is assumed that local public key had already been added to remote server authorized_hosts file.\n",
    "Scroll down on how to do it.\n",
    "\n",
    "Steps:"
   ]
  },
  {
   "cell_type": "code",
   "execution_count": 60,
   "metadata": {},
   "outputs": [
    {
     "name": "stdout",
     "output_type": "stream",
     "text": [
      " Volume in drive C is Local Disk\n",
      " Volume Serial Number is 501D-27E7\n",
      "\n",
      " Directory of C:\\Users\\X271176\n",
      "\n",
      "12/24/2019  09:04 AM                52 aaa.sh\n",
      "               1 File(s)             52 bytes\n",
      "               0 Dir(s)  164,894,162,944 bytes free\n"
     ]
    }
   ],
   "source": [
    "# \"!\" is a Notebook \"magic\" which runs arbitrary command in a local shell (CMD on Windows). \n",
    "# Example:\n",
    "!dir aaa.sh"
   ]
  },
  {
   "cell_type": "code",
   "execution_count": 61,
   "metadata": {},
   "outputs": [
    {
     "name": "stdout",
     "output_type": "stream",
     "text": [
      "\n",
      "echo \"parameter : $1\"\n",
      "echo \"hostname  : `hostname`\"\n"
     ]
    }
   ],
   "source": [
    "# lets create following shell script outside of Notebook.\n",
    "# Script is supposed to print a parameter value and a hostname value\n",
    "# We will then send this script to a remote host for execution\n",
    "!type aaa.sh"
   ]
  },
  {
   "cell_type": "code",
   "execution_count": 62,
   "metadata": {
    "scrolled": true
   },
   "outputs": [
    {
     "name": "stdout",
     "output_type": "stream",
     "text": [
      "parameter : Hello\n",
      "hostname  : oraracnp03\n"
     ]
    }
   ],
   "source": [
    "# Execute local script on a remote host by redirecting standard input to remote host bash\n",
    "# Note bash \"-s\" flag which allows you to pass parameters (\"Hello\" in this case)\n",
    "!type \"aaa.sh\" | ssh -q oracle@oraracnp03 /usr/bin/bash -s Hello"
   ]
  },
  {
   "cell_type": "code",
   "execution_count": 66,
   "metadata": {},
   "outputs": [],
   "source": [
    "# lets simplify above construct by creating SSH_TARGET_EXEC alias\n",
    "# The alias usage will have form of \"SSH_TARGET <local_script> <parameter1> <parameter2> ...\"\n",
    "# The \"%s\" placeholder is where \"local_script\" name will be substituted\n",
    "%alias SSH_TARGET_EXEC type %s | ssh -q oracle@oraracnp03 /usr/bin/bash -s"
   ]
  },
  {
   "cell_type": "code",
   "execution_count": 69,
   "metadata": {},
   "outputs": [
    {
     "name": "stdout",
     "output_type": "stream",
     "text": [
      "parameter : Hello there ...\n",
      "hostname  : oraracnp03\n"
     ]
    }
   ],
   "source": [
    "# now use the alias to remotely execute aaa.sh on the remote host and pass it parameter\n",
    "%SSH_TARGET_EXEC aaa.sh 'Hello there ...'"
   ]
  },
  {
   "cell_type": "markdown",
   "metadata": {},
   "source": [
    "#### This concludes presentation of the Notebook remote script execution technique\n",
    "**Summary of Notebook Benefits for DBA workflow templating :**\n",
    "- Useful in \"Semi-Automation\" scenarious where there is high probability of runtime failures due to unforseable environmnet impacts, making \"full\" automation impractical. For example, where Oracle pre-upgrade script dynamically generates manual fix recommendations different from one environment to another due to different installed options. Or when each step output has to be analyzed by a human before running next step.\n",
    "- Ability to iteratively run remote scripts. You do not have to run complete workflow from start to finish as it is done with full authomation. This makes Notebook a \"Semi-Automation\" approach allowing you to interatively run try/error/fix/re-try cycle until you find a good solution and then apply this as a template to other targets where it may still run into other errors - and then letting you to again fix those errors.\n",
    "- Allows you to create a template runbook which can be reused multiple times for different targets\n",
    "- Editable and flexible, allowing you to fix steps if they break. \n",
    "- Self-documenting execution results\n",
    "\n"
   ]
  },
  {
   "cell_type": "markdown",
   "metadata": {},
   "source": [
    "#### Addendum: Public/Private keys\n",
    "\n",
    "Above demonstration assumed that local public key was added to remote hosts authorized_hosts file.\n",
    "This makes ssh to not prompt for a password.\n",
    "\n",
    "Bellow is how one can generate key pair on Windows 10 OpenSSH and then add local public key to a remote host\n",
    "\n",
    "1. **check if user keys already exist.**\n",
    "If user keys already exist then skip next step of generating the keys.\n",
    "Otherwise existing keys will be overwritten and new public key will have to be resent to all hosts where it was previously sent\n",
    "```\n",
    "dir C:\\Users\\<username>\\.ssh\n",
    "\n",
    "     Volume in drive C is Local Disk\n",
    "     Volume Serial Number is 501D-27E7\n",
    "\n",
    "     Directory of C:\\Users\\<username>\\.ssh\n",
    "\n",
    "    12/23/2019  03:29 PM    <DIR>          .\n",
    "    12/23/2019  03:29 PM    <DIR>          ..\n",
    "    12/23/2019  03:29 PM             1,675 id_rsa\n",
    "    12/23/2019  03:29 PM               408 id_rsa.pub\n",
    "    12/23/2019  03:49 PM             1,417 known_hosts\n",
    "                   3 File(s)          3,500 bytes\n",
    "                   2 Dir(s)  164,874,145,792 bytes free\n",
    "```\n",
    "\n",
    "2. **If no existing keys - generate ssh keys**\n",
    "```\n",
    "ssh-keygen\n",
    "\tGenerating public/private rsa key pair.\n",
    "\tEnter file in which to save the key (C:\\Users\\X271176/.ssh/id_rsa):\n",
    "\tEnter passphrase (empty for no passphrase):\n",
    "\tEnter same passphrase again:\n",
    "\tYour identification has been saved in C:\\Users\\X271176/.ssh/id_rsa.\n",
    "\tYour public key has been saved in C:\\Users\\X271176/.ssh/id_rsa.pub.\n",
    "```\n",
    "\n",
    "3. **send PUBLIC key to remote server and add it to .ssh/authorized_keys**\n",
    "```\n",
    "cd C:\\Users\\<username>\\.ssh\n",
    "type \"id_rsa.pub\" | ssh -q remote-user@remote-host-1 \"cat >> .ssh/authorized_keys\"\n",
    "type \"id_rsa.pub\" | ssh -q remote-user@remote-host-2 \"cat >> .ssh/authorized_keys\"\n",
    "...\n",
    "```\n",
    "\n",
    "4. **verify passwordless ssh works by sending \"hostname\" command**\n",
    "```\n",
    "ssh remote-user@remote-host-1 hostname\n",
    "    remote-host-1\n",
    "ssh remote-user@remote-host-2 hostname\n",
    "    remote-host-2\n",
    "```"
   ]
  }
 ],
 "metadata": {
  "kernelspec": {
   "display_name": "Python 3",
   "language": "python",
   "name": "python3"
  },
  "language_info": {
   "codemirror_mode": {
    "name": "ipython",
    "version": 3
   },
   "file_extension": ".py",
   "mimetype": "text/x-python",
   "name": "python",
   "nbconvert_exporter": "python",
   "pygments_lexer": "ipython3",
   "version": "3.8.0"
  }
 },
 "nbformat": 4,
 "nbformat_minor": 2
}
