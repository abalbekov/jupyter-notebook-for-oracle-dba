{
 "cells": [
  {
   "cell_type": "code",
   "execution_count": 1,
   "metadata": {},
   "outputs": [
    {
     "name": "stdout",
     "output_type": "stream",
     "text": [
      "hello there\n"
     ]
    }
   ],
   "source": [
    "print (\"hello there\")"
   ]
  },
  {
   "cell_type": "code",
   "execution_count": 4,
   "metadata": {},
   "outputs": [
    {
     "data": {
      "text/plain": [
       "'12.1.0.2.0'"
      ]
     },
     "execution_count": 4,
     "metadata": {},
     "output_type": "execute_result"
    }
   ],
   "source": [
    "# one way to connect to oracle:\n",
    "import cx_Oracle\n",
    "con=cx_Oracle.connect('/@oemprd')\n",
    "con.version"
   ]
  },
  {
   "cell_type": "code",
   "execution_count": 5,
   "metadata": {},
   "outputs": [
    {
     "data": {
      "text/plain": [
       "'Connected: @None'"
      ]
     },
     "execution_count": 5,
     "metadata": {},
     "output_type": "execute_result"
    }
   ],
   "source": [
    "# another way :\n",
    "%load_ext sql\n",
    "%sql oracle+cx_oracle://@oemprd"
   ]
  },
  {
   "cell_type": "code",
   "execution_count": 6,
   "metadata": {},
   "outputs": [
    {
     "name": "stdout",
     "output_type": "stream",
     "text": [
      " * oracle+cx_oracle://@oemprd\n",
      "0 rows affected.\n"
     ]
    },
    {
     "data": {
      "text/html": [
       "<table>\n",
       "    <tr>\n",
       "        <th>sysdate</th>\n",
       "    </tr>\n",
       "    <tr>\n",
       "        <td>2019-12-03 15:58:02</td>\n",
       "    </tr>\n",
       "</table>"
      ],
      "text/plain": [
       "[(datetime.datetime(2019, 12, 3, 15, 58, 2),)]"
      ]
     },
     "execution_count": 6,
     "metadata": {},
     "output_type": "execute_result"
    }
   ],
   "source": [
    "%%sql \n",
    "select sysdate from dual"
   ]
  },
  {
   "cell_type": "markdown",
   "metadata": {},
   "source": [
    "To get target db names as defined in OEM - run below in SQL Developer\n",
    "\n",
    "Then use target name in subsequent sql in this notebook\n",
    "\n",
    "<code>\n",
    "select * from sysman.mgmt$target \n",
    "where target_type in ('oracle_database','rac_database')\n",
    "and host_name like 'orarac%'\n",
    "and target_name like 'f%'\n",
    "</code>"
   ]
  },
  {
   "cell_type": "markdown",
   "metadata": {},
   "source": [
    "extract from OEM repository"
   ]
  },
  {
   "cell_type": "code",
   "execution_count": 7,
   "metadata": {},
   "outputs": [
    {
     "name": "stdout",
     "output_type": "stream",
     "text": [
      " * oracle+cx_oracle://@oemprd\n",
      "0 rows affected.\n",
      "Returning data to local variable res\n"
     ]
    }
   ],
   "source": [
    "%%sql res <<\n",
    "SELECT \n",
    "    to_date(to_char(rollup_timestamp,'MON-YY'),'MON-YY') \"Month\",\n",
    "    round(avg(case when column_label='Allocated Space(GB)' then average end),0) \"ALLOCATED_GB\",\n",
    "    round(avg(case when column_label='Used Space(GB)' then average end),0) \"USED_GB\",\n",
    "    m.target_name\n",
    "FROM sysman.MGMT$METRIC_DAILY M\n",
    "WHERE \n",
    "m.target_name in ('eisprd.ghc.org','ediprd')\n",
    "AND m.column_label in ('Allocated Space(GB)','Used Space(GB)' )\n",
    "and m.rollup_timestamp>sysdate-360\n",
    "group by to_date(to_char(rollup_timestamp,'MON-YY'),'MON-YY'), m.target_name \n",
    "order by 1\n"
   ]
  },
  {
   "cell_type": "code",
   "execution_count": 8,
   "metadata": {},
   "outputs": [
    {
     "data": {
      "text/html": [
       "<table>\n",
       "    <tr>\n",
       "        <th>Month</th>\n",
       "        <th>allocated_gb</th>\n",
       "        <th>used_gb</th>\n",
       "        <th>target_name</th>\n",
       "    </tr>\n",
       "    <tr>\n",
       "        <td>2018-12-01 00:00:00</td>\n",
       "        <td>448</td>\n",
       "        <td>203</td>\n",
       "        <td>eisprd.ghc.org</td>\n",
       "    </tr>\n",
       "    <tr>\n",
       "        <td>2019-01-01 00:00:00</td>\n",
       "        <td>451</td>\n",
       "        <td>206</td>\n",
       "        <td>eisprd.ghc.org</td>\n",
       "    </tr>\n",
       "    <tr>\n",
       "        <td>2019-02-01 00:00:00</td>\n",
       "        <td>2236</td>\n",
       "        <td>1997</td>\n",
       "        <td>ediprd</td>\n",
       "    </tr>\n",
       "    <tr>\n",
       "        <td>2019-02-01 00:00:00</td>\n",
       "        <td>463</td>\n",
       "        <td>209</td>\n",
       "        <td>eisprd.ghc.org</td>\n",
       "    </tr>\n",
       "    <tr>\n",
       "        <td>2019-03-01 00:00:00</td>\n",
       "        <td>470</td>\n",
       "        <td>213</td>\n",
       "        <td>eisprd.ghc.org</td>\n",
       "    </tr>\n",
       "    <tr>\n",
       "        <td>2019-03-01 00:00:00</td>\n",
       "        <td>2293</td>\n",
       "        <td>2035</td>\n",
       "        <td>ediprd</td>\n",
       "    </tr>\n",
       "    <tr>\n",
       "        <td>2019-04-01 00:00:00</td>\n",
       "        <td>2355</td>\n",
       "        <td>2104</td>\n",
       "        <td>ediprd</td>\n",
       "    </tr>\n",
       "    <tr>\n",
       "        <td>2019-04-01 00:00:00</td>\n",
       "        <td>473</td>\n",
       "        <td>217</td>\n",
       "        <td>eisprd.ghc.org</td>\n",
       "    </tr>\n",
       "    <tr>\n",
       "        <td>2019-05-01 00:00:00</td>\n",
       "        <td>480</td>\n",
       "        <td>225</td>\n",
       "        <td>eisprd.ghc.org</td>\n",
       "    </tr>\n",
       "    <tr>\n",
       "        <td>2019-05-01 00:00:00</td>\n",
       "        <td>2467</td>\n",
       "        <td>2206</td>\n",
       "        <td>ediprd</td>\n",
       "    </tr>\n",
       "    <tr>\n",
       "        <td>2019-06-01 00:00:00</td>\n",
       "        <td>486</td>\n",
       "        <td>230</td>\n",
       "        <td>eisprd.ghc.org</td>\n",
       "    </tr>\n",
       "    <tr>\n",
       "        <td>2019-06-01 00:00:00</td>\n",
       "        <td>2551</td>\n",
       "        <td>2293</td>\n",
       "        <td>ediprd</td>\n",
       "    </tr>\n",
       "    <tr>\n",
       "        <td>2019-07-01 00:00:00</td>\n",
       "        <td>492</td>\n",
       "        <td>236</td>\n",
       "        <td>eisprd.ghc.org</td>\n",
       "    </tr>\n",
       "    <tr>\n",
       "        <td>2019-07-01 00:00:00</td>\n",
       "        <td>2640</td>\n",
       "        <td>2388</td>\n",
       "        <td>ediprd</td>\n",
       "    </tr>\n",
       "    <tr>\n",
       "        <td>2019-08-01 00:00:00</td>\n",
       "        <td>2746</td>\n",
       "        <td>2470</td>\n",
       "        <td>ediprd</td>\n",
       "    </tr>\n",
       "    <tr>\n",
       "        <td>2019-08-01 00:00:00</td>\n",
       "        <td>496</td>\n",
       "        <td>240</td>\n",
       "        <td>eisprd.ghc.org</td>\n",
       "    </tr>\n",
       "    <tr>\n",
       "        <td>2019-09-01 00:00:00</td>\n",
       "        <td>2826</td>\n",
       "        <td>2560</td>\n",
       "        <td>ediprd</td>\n",
       "    </tr>\n",
       "    <tr>\n",
       "        <td>2019-09-01 00:00:00</td>\n",
       "        <td>501</td>\n",
       "        <td>245</td>\n",
       "        <td>eisprd.ghc.org</td>\n",
       "    </tr>\n",
       "    <tr>\n",
       "        <td>2019-10-01 00:00:00</td>\n",
       "        <td>2907</td>\n",
       "        <td>2650</td>\n",
       "        <td>ediprd</td>\n",
       "    </tr>\n",
       "    <tr>\n",
       "        <td>2019-10-01 00:00:00</td>\n",
       "        <td>506</td>\n",
       "        <td>250</td>\n",
       "        <td>eisprd.ghc.org</td>\n",
       "    </tr>\n",
       "    <tr>\n",
       "        <td>2019-11-01 00:00:00</td>\n",
       "        <td>3026</td>\n",
       "        <td>2754</td>\n",
       "        <td>ediprd</td>\n",
       "    </tr>\n",
       "    <tr>\n",
       "        <td>2019-11-01 00:00:00</td>\n",
       "        <td>511</td>\n",
       "        <td>255</td>\n",
       "        <td>eisprd.ghc.org</td>\n",
       "    </tr>\n",
       "    <tr>\n",
       "        <td>2019-12-01 00:00:00</td>\n",
       "        <td>512</td>\n",
       "        <td>257</td>\n",
       "        <td>eisprd.ghc.org</td>\n",
       "    </tr>\n",
       "    <tr>\n",
       "        <td>2019-12-01 00:00:00</td>\n",
       "        <td>3062</td>\n",
       "        <td>2816</td>\n",
       "        <td>ediprd</td>\n",
       "    </tr>\n",
       "</table>"
      ],
      "text/plain": [
       "[(datetime.datetime(2018, 12, 1, 0, 0), 448, 203, 'eisprd.ghc.org'),\n",
       " (datetime.datetime(2019, 1, 1, 0, 0), 451, 206, 'eisprd.ghc.org'),\n",
       " (datetime.datetime(2019, 2, 1, 0, 0), 2236, 1997, 'ediprd'),\n",
       " (datetime.datetime(2019, 2, 1, 0, 0), 463, 209, 'eisprd.ghc.org'),\n",
       " (datetime.datetime(2019, 3, 1, 0, 0), 470, 213, 'eisprd.ghc.org'),\n",
       " (datetime.datetime(2019, 3, 1, 0, 0), 2293, 2035, 'ediprd'),\n",
       " (datetime.datetime(2019, 4, 1, 0, 0), 2355, 2104, 'ediprd'),\n",
       " (datetime.datetime(2019, 4, 1, 0, 0), 473, 217, 'eisprd.ghc.org'),\n",
       " (datetime.datetime(2019, 5, 1, 0, 0), 480, 225, 'eisprd.ghc.org'),\n",
       " (datetime.datetime(2019, 5, 1, 0, 0), 2467, 2206, 'ediprd'),\n",
       " (datetime.datetime(2019, 6, 1, 0, 0), 486, 230, 'eisprd.ghc.org'),\n",
       " (datetime.datetime(2019, 6, 1, 0, 0), 2551, 2293, 'ediprd'),\n",
       " (datetime.datetime(2019, 7, 1, 0, 0), 492, 236, 'eisprd.ghc.org'),\n",
       " (datetime.datetime(2019, 7, 1, 0, 0), 2640, 2388, 'ediprd'),\n",
       " (datetime.datetime(2019, 8, 1, 0, 0), 2746, 2470, 'ediprd'),\n",
       " (datetime.datetime(2019, 8, 1, 0, 0), 496, 240, 'eisprd.ghc.org'),\n",
       " (datetime.datetime(2019, 9, 1, 0, 0), 2826, 2560, 'ediprd'),\n",
       " (datetime.datetime(2019, 9, 1, 0, 0), 501, 245, 'eisprd.ghc.org'),\n",
       " (datetime.datetime(2019, 10, 1, 0, 0), 2907, 2650, 'ediprd'),\n",
       " (datetime.datetime(2019, 10, 1, 0, 0), 506, 250, 'eisprd.ghc.org'),\n",
       " (datetime.datetime(2019, 11, 1, 0, 0), 3026, 2754, 'ediprd'),\n",
       " (datetime.datetime(2019, 11, 1, 0, 0), 511, 255, 'eisprd.ghc.org'),\n",
       " (datetime.datetime(2019, 12, 1, 0, 0), 512, 257, 'eisprd.ghc.org'),\n",
       " (datetime.datetime(2019, 12, 1, 0, 0), 3062, 2816, 'ediprd')]"
      ]
     },
     "execution_count": 8,
     "metadata": {},
     "output_type": "execute_result"
    }
   ],
   "source": [
    "res"
   ]
  },
  {
   "cell_type": "code",
   "execution_count": 36,
   "metadata": {},
   "outputs": [
    {
     "data": {
      "text/plain": [
       "Text(0.5, 1.0, 'ediprd')"
      ]
     },
     "execution_count": 36,
     "metadata": {},
     "output_type": "execute_result"
    },
    {
     "data": {
      "image/png": "[encoded data removed]",
      "text/plain": [
       "<Figure size 432x288 with 1 Axes>"
      ]
     },
     "metadata": {
      "needs_background": "light"
     },
     "output_type": "display_data"
    },
    {
     "data": {
      "image/png": "[encoded data removed]",
      "text/plain": [
       "<Figure size 432x288 with 1 Axes>"
      ]
     },
     "metadata": {
      "needs_background": "light"
     },
     "output_type": "display_data"
    }
   ],
   "source": [
    "# convert to dataframe and plot\n",
    "df_eisprd=res.DataFrame().query('target_name==\"eisprd.ghc.org\"')\n",
    "df_eisprd.plot(x=\"Month\", y=[\"used_gb\",\"allocated_gb\"]).set_title('eisprd')\n",
    "\n",
    "df_ediprd=res.DataFrame().query('target_name==\"ediprd\"')\n",
    "df_ediprd.plot(x=\"Month\", y=[\"used_gb\",\"allocated_gb\"]).set_title('ediprd')\n"
   ]
  },
  {
   "cell_type": "code",
   "execution_count": 10,
   "metadata": {},
   "outputs": [
    {
     "data": {
      "text/html": [
       "<div>\n",
       "<style scoped>\n",
       "    .dataframe tbody tr th:only-of-type {\n",
       "        vertical-align: middle;\n",
       "    }\n",
       "\n",
       "    .dataframe tbody tr th {\n",
       "        vertical-align: top;\n",
       "    }\n",
       "\n",
       "    .dataframe thead th {\n",
       "        text-align: right;\n",
       "    }\n",
       "</style>\n",
       "<table border=\"1\" class=\"dataframe\">\n",
       "  <thead>\n",
       "    <tr style=\"text-align: right;\">\n",
       "      <th></th>\n",
       "      <th>Month</th>\n",
       "      <th>allocated_gb_x</th>\n",
       "      <th>used_gb_x</th>\n",
       "      <th>target_name_x</th>\n",
       "      <th>allocated_gb_y</th>\n",
       "      <th>used_gb_y</th>\n",
       "      <th>target_name_y</th>\n",
       "      <th>eisprd_allocated_gb</th>\n",
       "      <th>ediprd_allocated_gb</th>\n",
       "    </tr>\n",
       "  </thead>\n",
       "  <tbody>\n",
       "    <tr>\n",
       "      <td>0</td>\n",
       "      <td>2019-02-01</td>\n",
       "      <td>463</td>\n",
       "      <td>209</td>\n",
       "      <td>eisprd.ghc.org</td>\n",
       "      <td>2236</td>\n",
       "      <td>1997</td>\n",
       "      <td>ediprd</td>\n",
       "      <td>463</td>\n",
       "      <td>2236</td>\n",
       "    </tr>\n",
       "    <tr>\n",
       "      <td>1</td>\n",
       "      <td>2019-03-01</td>\n",
       "      <td>470</td>\n",
       "      <td>213</td>\n",
       "      <td>eisprd.ghc.org</td>\n",
       "      <td>2293</td>\n",
       "      <td>2035</td>\n",
       "      <td>ediprd</td>\n",
       "      <td>470</td>\n",
       "      <td>2293</td>\n",
       "    </tr>\n",
       "    <tr>\n",
       "      <td>2</td>\n",
       "      <td>2019-04-01</td>\n",
       "      <td>473</td>\n",
       "      <td>217</td>\n",
       "      <td>eisprd.ghc.org</td>\n",
       "      <td>2355</td>\n",
       "      <td>2104</td>\n",
       "      <td>ediprd</td>\n",
       "      <td>473</td>\n",
       "      <td>2355</td>\n",
       "    </tr>\n",
       "    <tr>\n",
       "      <td>3</td>\n",
       "      <td>2019-05-01</td>\n",
       "      <td>480</td>\n",
       "      <td>225</td>\n",
       "      <td>eisprd.ghc.org</td>\n",
       "      <td>2467</td>\n",
       "      <td>2206</td>\n",
       "      <td>ediprd</td>\n",
       "      <td>480</td>\n",
       "      <td>2467</td>\n",
       "    </tr>\n",
       "    <tr>\n",
       "      <td>4</td>\n",
       "      <td>2019-06-01</td>\n",
       "      <td>486</td>\n",
       "      <td>230</td>\n",
       "      <td>eisprd.ghc.org</td>\n",
       "      <td>2551</td>\n",
       "      <td>2293</td>\n",
       "      <td>ediprd</td>\n",
       "      <td>486</td>\n",
       "      <td>2551</td>\n",
       "    </tr>\n",
       "    <tr>\n",
       "      <td>5</td>\n",
       "      <td>2019-07-01</td>\n",
       "      <td>492</td>\n",
       "      <td>236</td>\n",
       "      <td>eisprd.ghc.org</td>\n",
       "      <td>2640</td>\n",
       "      <td>2388</td>\n",
       "      <td>ediprd</td>\n",
       "      <td>492</td>\n",
       "      <td>2640</td>\n",
       "    </tr>\n",
       "    <tr>\n",
       "      <td>6</td>\n",
       "      <td>2019-08-01</td>\n",
       "      <td>496</td>\n",
       "      <td>240</td>\n",
       "      <td>eisprd.ghc.org</td>\n",
       "      <td>2746</td>\n",
       "      <td>2470</td>\n",
       "      <td>ediprd</td>\n",
       "      <td>496</td>\n",
       "      <td>2746</td>\n",
       "    </tr>\n",
       "    <tr>\n",
       "      <td>7</td>\n",
       "      <td>2019-09-01</td>\n",
       "      <td>501</td>\n",
       "      <td>245</td>\n",
       "      <td>eisprd.ghc.org</td>\n",
       "      <td>2826</td>\n",
       "      <td>2560</td>\n",
       "      <td>ediprd</td>\n",
       "      <td>501</td>\n",
       "      <td>2826</td>\n",
       "    </tr>\n",
       "    <tr>\n",
       "      <td>8</td>\n",
       "      <td>2019-10-01</td>\n",
       "      <td>506</td>\n",
       "      <td>250</td>\n",
       "      <td>eisprd.ghc.org</td>\n",
       "      <td>2907</td>\n",
       "      <td>2650</td>\n",
       "      <td>ediprd</td>\n",
       "      <td>506</td>\n",
       "      <td>2907</td>\n",
       "    </tr>\n",
       "    <tr>\n",
       "      <td>9</td>\n",
       "      <td>2019-11-01</td>\n",
       "      <td>511</td>\n",
       "      <td>255</td>\n",
       "      <td>eisprd.ghc.org</td>\n",
       "      <td>3026</td>\n",
       "      <td>2754</td>\n",
       "      <td>ediprd</td>\n",
       "      <td>511</td>\n",
       "      <td>3026</td>\n",
       "    </tr>\n",
       "    <tr>\n",
       "      <td>10</td>\n",
       "      <td>2019-12-01</td>\n",
       "      <td>512</td>\n",
       "      <td>257</td>\n",
       "      <td>eisprd.ghc.org</td>\n",
       "      <td>3062</td>\n",
       "      <td>2816</td>\n",
       "      <td>ediprd</td>\n",
       "      <td>512</td>\n",
       "      <td>3062</td>\n",
       "    </tr>\n",
       "  </tbody>\n",
       "</table>\n",
       "</div>"
      ],
      "text/plain": [
       "        Month  allocated_gb_x  used_gb_x   target_name_x  allocated_gb_y  \\\n",
       "0  2019-02-01             463        209  eisprd.ghc.org            2236   \n",
       "1  2019-03-01             470        213  eisprd.ghc.org            2293   \n",
       "2  2019-04-01             473        217  eisprd.ghc.org            2355   \n",
       "3  2019-05-01             480        225  eisprd.ghc.org            2467   \n",
       "4  2019-06-01             486        230  eisprd.ghc.org            2551   \n",
       "5  2019-07-01             492        236  eisprd.ghc.org            2640   \n",
       "6  2019-08-01             496        240  eisprd.ghc.org            2746   \n",
       "7  2019-09-01             501        245  eisprd.ghc.org            2826   \n",
       "8  2019-10-01             506        250  eisprd.ghc.org            2907   \n",
       "9  2019-11-01             511        255  eisprd.ghc.org            3026   \n",
       "10 2019-12-01             512        257  eisprd.ghc.org            3062   \n",
       "\n",
       "    used_gb_y target_name_y  eisprd_allocated_gb  ediprd_allocated_gb  \n",
       "0        1997        ediprd                  463                 2236  \n",
       "1        2035        ediprd                  470                 2293  \n",
       "2        2104        ediprd                  473                 2355  \n",
       "3        2206        ediprd                  480                 2467  \n",
       "4        2293        ediprd                  486                 2551  \n",
       "5        2388        ediprd                  492                 2640  \n",
       "6        2470        ediprd                  496                 2746  \n",
       "7        2560        ediprd                  501                 2826  \n",
       "8        2650        ediprd                  506                 2907  \n",
       "9        2754        ediprd                  511                 3026  \n",
       "10       2816        ediprd                  512                 3062  "
      ]
     },
     "execution_count": 10,
     "metadata": {},
     "output_type": "execute_result"
    }
   ],
   "source": [
    "# combine and plot\n",
    "import pandas as pd\n",
    "df_combined=pd.merge(df_eisprd, df_ediprd, on='Month')\n",
    "df_combined['eisprd_allocated_gb']=df_combined['allocated_gb_x']\n",
    "df_combined['ediprd_allocated_gb']=df_combined['allocated_gb_y']\n",
    "df_combined"
   ]
  },
  {
   "cell_type": "code",
   "execution_count": 11,
   "metadata": {},
   "outputs": [
    {
     "data": {
      "text/plain": [
       "Text(0.5, 1.0, 'GB')"
      ]
     },
     "execution_count": 11,
     "metadata": {},
     "output_type": "execute_result"
    },
    {
     "data": {
      "image/png": "[encoded data removed]",
      "text/plain": [
       "<Figure size 432x288 with 1 Axes>"
      ]
     },
     "metadata": {
      "needs_background": "light"
     },
     "output_type": "display_data"
    }
   ],
   "source": [
    "df_combined.plot(x=\"Month\", y=[\"eisprd_allocated_gb\",\"ediprd_allocated_gb\"]).set_title('GB')"
   ]
  },
  {
   "cell_type": "code",
   "execution_count": 39,
   "metadata": {},
   "outputs": [
    {
     "data": {
      "text/html": [
       "<div>\n",
       "<style scoped>\n",
       "    .dataframe tbody tr th:only-of-type {\n",
       "        vertical-align: middle;\n",
       "    }\n",
       "\n",
       "    .dataframe tbody tr th {\n",
       "        vertical-align: top;\n",
       "    }\n",
       "\n",
       "    .dataframe thead th {\n",
       "        text-align: right;\n",
       "    }\n",
       "</style>\n",
       "<table border=\"1\" class=\"dataframe\">\n",
       "  <thead>\n",
       "    <tr style=\"text-align: right;\">\n",
       "      <th></th>\n",
       "      <th>Month</th>\n",
       "      <th>allocated_gb</th>\n",
       "      <th>used_gb</th>\n",
       "      <th>target_name</th>\n",
       "      <th>allocated_minus_used</th>\n",
       "    </tr>\n",
       "  </thead>\n",
       "  <tbody>\n",
       "    <tr>\n",
       "      <td>2</td>\n",
       "      <td>2019-02-01</td>\n",
       "      <td>2236</td>\n",
       "      <td>1997</td>\n",
       "      <td>ediprd</td>\n",
       "      <td>239</td>\n",
       "    </tr>\n",
       "    <tr>\n",
       "      <td>5</td>\n",
       "      <td>2019-03-01</td>\n",
       "      <td>2293</td>\n",
       "      <td>2035</td>\n",
       "      <td>ediprd</td>\n",
       "      <td>258</td>\n",
       "    </tr>\n",
       "    <tr>\n",
       "      <td>6</td>\n",
       "      <td>2019-04-01</td>\n",
       "      <td>2355</td>\n",
       "      <td>2104</td>\n",
       "      <td>ediprd</td>\n",
       "      <td>251</td>\n",
       "    </tr>\n",
       "    <tr>\n",
       "      <td>9</td>\n",
       "      <td>2019-05-01</td>\n",
       "      <td>2467</td>\n",
       "      <td>2206</td>\n",
       "      <td>ediprd</td>\n",
       "      <td>261</td>\n",
       "    </tr>\n",
       "    <tr>\n",
       "      <td>11</td>\n",
       "      <td>2019-06-01</td>\n",
       "      <td>2551</td>\n",
       "      <td>2293</td>\n",
       "      <td>ediprd</td>\n",
       "      <td>258</td>\n",
       "    </tr>\n",
       "    <tr>\n",
       "      <td>13</td>\n",
       "      <td>2019-07-01</td>\n",
       "      <td>2640</td>\n",
       "      <td>2388</td>\n",
       "      <td>ediprd</td>\n",
       "      <td>252</td>\n",
       "    </tr>\n",
       "    <tr>\n",
       "      <td>14</td>\n",
       "      <td>2019-08-01</td>\n",
       "      <td>2746</td>\n",
       "      <td>2470</td>\n",
       "      <td>ediprd</td>\n",
       "      <td>276</td>\n",
       "    </tr>\n",
       "    <tr>\n",
       "      <td>16</td>\n",
       "      <td>2019-09-01</td>\n",
       "      <td>2826</td>\n",
       "      <td>2560</td>\n",
       "      <td>ediprd</td>\n",
       "      <td>266</td>\n",
       "    </tr>\n",
       "    <tr>\n",
       "      <td>18</td>\n",
       "      <td>2019-10-01</td>\n",
       "      <td>2907</td>\n",
       "      <td>2650</td>\n",
       "      <td>ediprd</td>\n",
       "      <td>257</td>\n",
       "    </tr>\n",
       "    <tr>\n",
       "      <td>20</td>\n",
       "      <td>2019-11-01</td>\n",
       "      <td>3026</td>\n",
       "      <td>2754</td>\n",
       "      <td>ediprd</td>\n",
       "      <td>272</td>\n",
       "    </tr>\n",
       "    <tr>\n",
       "      <td>23</td>\n",
       "      <td>2019-12-01</td>\n",
       "      <td>3062</td>\n",
       "      <td>2816</td>\n",
       "      <td>ediprd</td>\n",
       "      <td>246</td>\n",
       "    </tr>\n",
       "  </tbody>\n",
       "</table>\n",
       "</div>"
      ],
      "text/plain": [
       "        Month  allocated_gb  used_gb target_name  allocated_minus_used\n",
       "2  2019-02-01          2236     1997      ediprd                   239\n",
       "5  2019-03-01          2293     2035      ediprd                   258\n",
       "6  2019-04-01          2355     2104      ediprd                   251\n",
       "9  2019-05-01          2467     2206      ediprd                   261\n",
       "11 2019-06-01          2551     2293      ediprd                   258\n",
       "13 2019-07-01          2640     2388      ediprd                   252\n",
       "14 2019-08-01          2746     2470      ediprd                   276\n",
       "16 2019-09-01          2826     2560      ediprd                   266\n",
       "18 2019-10-01          2907     2650      ediprd                   257\n",
       "20 2019-11-01          3026     2754      ediprd                   272\n",
       "23 2019-12-01          3062     2816      ediprd                   246"
      ]
     },
     "execution_count": 39,
     "metadata": {},
     "output_type": "execute_result"
    }
   ],
   "source": [
    "# add calculated column \"allocated-used\" for use in a stacked chart\n",
    "df_ediprd['allocated_minus_used'] = df_ediprd.allocated_gb - df_ediprd.used_gb\n",
    "df_ediprd"
   ]
  },
  {
   "cell_type": "code",
   "execution_count": 41,
   "metadata": {},
   "outputs": [
    {
     "data": {
      "image/png": "[encoded data removed]",
      "text/plain": [
       "<Figure size 432x288 with 1 Axes>"
      ]
     },
     "metadata": {
      "needs_background": "light"
     },
     "output_type": "display_data"
    }
   ],
   "source": [
    "# dataframe plot shows time portion on X axis\n",
    "# need to format as DD-MM-YYYY \n",
    "# this is issue with pandas dataframe plot not allowing date customization\n",
    "# workaround is to plot with matplotlib\n",
    "\n",
    "import matplotlib.pyplot as plt\n",
    "import matplotlib.dates as mdates\n",
    "\n",
    "fig, ax = plt.subplots(figsize=(6, 4)) # size in inches\n",
    "\n",
    "ax.xaxis.set_major_formatter(mdates.DateFormatter('%Y-%m-%d'))\n",
    "ax.xaxis.set_major_locator(mdates.MonthLocator())\n",
    "\n",
    "month=df_ediprd.Month\n",
    "used_gb=df_ediprd.used_gb\n",
    "allocated_gb=df_ediprd.allocated_gb\n",
    "allocated_minus_used=df_ediprd.allocated_minus_used\n",
    "allocated_minus_used\n",
    "\n",
    "ax.bar(month,allocated_gb, width=20,label='Allocated(GB)')\n",
    "ax.bar(month,used_gb, width=20,label='Used(GB)')\n",
    "#ax.bar(month,allocated_minus_used,bottom=used_gb, width=20,label='Allocated-Used')\n",
    "\n",
    "ax.tick_params(axis=\"x\", labelbottom=True, rotation=45)\n",
    "\n",
    "plt.title('ediprd')\n",
    "plt.ylabel('GB')\n",
    "ax.legend(loc='best')\n",
    "plt.show()\n"
   ]
  }
 ],
 "metadata": {
  "kernelspec": {
   "display_name": "Python 3",
   "language": "python",
   "name": "python3"
  },
  "language_info": {
   "codemirror_mode": {
    "name": "ipython",
    "version": 3
   },
   "file_extension": ".py",
   "mimetype": "text/x-python",
   "name": "python",
   "nbconvert_exporter": "python",
   "pygments_lexer": "ipython3",
   "version": "3.6.4"
  }
 },
 "nbformat": 4,
 "nbformat_minor": 2
}
